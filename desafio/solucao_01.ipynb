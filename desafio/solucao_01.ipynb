{
 "cells": [
  {
   "cell_type": "code",
   "execution_count": null,
   "metadata": {},
   "outputs": [],
   "source": []
  },
  {
   "cell_type": "code",
   "execution_count": 1,
   "metadata": {},
   "outputs": [
    {
     "name": "stdout",
     "output_type": "stream",
     "text": [
      "✅ Arquivo 'transacoes_paysmart.csv' gerado com sucesso!\n"
     ]
    }
   ],
   "source": [
    "import pandas as pd\n",
    "import numpy as np\n",
    "\n",
    "# 1. Criar base de dados fictícia\n",
    "np.random.seed(42)\n",
    "data = {\n",
    "    \"ID_Transação\": range(1, 101),\n",
    "    \"Valor_Transação\": np.random.uniform(50, 500, 100).round(2),\n",
    "    \"Taxa_Cobrada\": np.random.uniform(0, 5, 100).round(2),\n",
    "    \"Isenção_Aplicada\": np.random.choice([\"Sim\", \"Não\"], 100, p=[0.2, 0.8])\n",
    "}\n",
    "df = pd.DataFrame(data)\n",
    "\n",
    "# 2. Simular erros e anomalias\n",
    "# 2.1. Corrigir isenções (taxa = 0) e adicionar erros de cobrança\n",
    "df.loc[df[\"Isenção_Aplicada\"] == \"Sim\", \"Taxa_Cobrada\"] = 0\n",
    "erros_isenção = np.random.choice(df[df[\"Isenção_Aplicada\"] == \"Sim\"].index, 5, replace=False)\n",
    "df.loc[erros_isenção, \"Taxa_Cobrada\"] = np.random.uniform(1, 10, 5).round(2)\n",
    "\n",
    "# 2.2. GERAR ANOMALIAS (outliers) em transações NÃO isentas\n",
    "anomalias = np.random.choice(df[df[\"Isenção_Aplicada\"] == \"Não\"].index, 5, replace=False)\n",
    "df.loc[anomalias, \"Taxa_Cobrada\"] = np.random.choice([25, 26, 27, 28, 38], 5)  # Valores extremos\n",
    "\n",
    "# 3. Salvar em CSV (arquivo será criado no mesmo diretório do script)\n",
    "df.to_csv(\"transacoes_paysmart.csv\", index=False, encoding='utf-8-sig')\n",
    "\n",
    "print(\"✅ Arquivo 'transacoes_paysmart.csv' gerado com sucesso!\")"
   ]
  },
  {
   "cell_type": "code",
   "execution_count": 2,
   "metadata": {},
   "outputs": [],
   "source": [
    "import pandas as pd\n",
    "import numpy as np\n",
    "from datetime import datetime\n",
    "#import schedule\n",
    "import time\n",
    "\n",
    "def monitorar_cobrancas():\n",
    "    # 1. Carregar base de dados (simulada ou real)\n",
    "    df = pd.read_csv(\"transacoes_paysmart.csv\")  # Ou conexão com banco de dados\n",
    "\n",
    "    # 2. Calcular métricas e identificar problemas\n",
    "    df[\"Z-Score\"] = (df[\"Taxa_Cobrada\"] - df[\"Taxa_Cobrada\"].mean()) / df[\"Taxa_Cobrada\"].std()\n",
    "    df[\"Anomalia\"] = np.abs(df[\"Z-Score\"]) > 3\n",
    "    df[\"Erro_Isencao\"] = (df[\"Isenção_Aplicada\"] == \"Sim\") & (df[\"Taxa_Cobrada\"] > 0)\n",
    "    df[\"Problema\"] = df[\"Anomalia\"] | df[\"Erro_Isencao\"]\n",
    "\n",
    "    # 3. Filtrar transações problemáticas\n",
    "    problemas = df[df[\"Problema\"]]\n",
    "\n",
    "    # 4. Gerar relatório e alertas\n",
    "    if not problemas.empty:\n",
    "        data_hora = datetime.now().strftime(\"%Y-%m-%d_%H-%M-%S\")\n",
    "        problemas.to_csv(f\"alertas_cobrancas_{data_hora}.csv\", index=False)\n",
    "        print(f\"⚠️ {len(problemas)} alertas gerados em {data_hora}. Verifique o arquivo CSV.\")\n",
    "    else:\n",
    "        print(f\"✅ Nenhum problema detectado em {datetime.now()}.\")\n"
   ]
  },
  {
   "cell_type": "code",
   "execution_count": 3,
   "metadata": {},
   "outputs": [
    {
     "name": "stdout",
     "output_type": "stream",
     "text": [
      "⚠️ 10 alertas gerados em 2025-04-20_16-33-50. Verifique o arquivo CSV.\n"
     ]
    }
   ],
   "source": [
    "monitorar_cobrancas()"
   ]
  }
 ],
 "metadata": {
  "kernelspec": {
   "display_name": "base",
   "language": "python",
   "name": "python3"
  },
  "language_info": {
   "codemirror_mode": {
    "name": "ipython",
    "version": 3
   },
   "file_extension": ".py",
   "mimetype": "text/x-python",
   "name": "python",
   "nbconvert_exporter": "python",
   "pygments_lexer": "ipython3",
   "version": "3.12.8"
  }
 },
 "nbformat": 4,
 "nbformat_minor": 2
}
