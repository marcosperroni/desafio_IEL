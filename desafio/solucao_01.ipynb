{
 "cells": [
  {
   "cell_type": "markdown",
   "metadata": {},
   "source": [
    "1. Cria dados fictícios de 100 transações com valores e taxas aleatórias.  \n",
    "2. Define 20% das transações como isentas (taxa=0).  \n",
    "3. Insere 5 erros: taxa cobrada indevidamente em transações isentas.  \n",
    "4. Adiciona 5 anomalias (taxas altas) em transações não isentas.  \n",
    "5. Salva os dados em CSV.  \n",
    "6. Confirma a geração do arquivo.  \n",
    "\n",
    "**Objetivo:** Simular transações com problemas reais (erros de isenção + taxas anormais) para testes."
   ]
  },
  {
   "cell_type": "code",
   "execution_count": 4,
   "metadata": {},
   "outputs": [
    {
     "name": "stdout",
     "output_type": "stream",
     "text": [
      "✅ Arquivo 'transacoes_paysmart.csv' gerado com sucesso!\n"
     ]
    }
   ],
   "source": [
    "import pandas as pd\n",
    "import numpy as np\n",
    "\n",
    "# 1. Criar base de dados fictícia\n",
    "np.random.seed(42)\n",
    "data = {\n",
    "    \"ID_Transação\": range(1, 101),\n",
    "    \"Valor_Transação\": np.random.uniform(50, 500, 100).round(2),\n",
    "    \"Taxa_Cobrada\": np.random.uniform(0, 5, 100).round(2),\n",
    "    \"Isenção_Aplicada\": np.random.choice([\"Sim\", \"Não\"], 100, p=[0.2, 0.8])\n",
    "}\n",
    "df = pd.DataFrame(data)\n",
    "\n",
    "# 2. Simular erros e anomalias\n",
    "# 2.1. Corrigir isenções (taxa = 0) e adicionar erros de cobrança\n",
    "df.loc[df[\"Isenção_Aplicada\"] == \"Sim\", \"Taxa_Cobrada\"] = 0\n",
    "erros_isenção = np.random.choice(df[df[\"Isenção_Aplicada\"] == \"Sim\"].index, 5, replace=False)\n",
    "df.loc[erros_isenção, \"Taxa_Cobrada\"] = np.random.uniform(1, 10, 5).round(2)\n",
    "\n",
    "# 2.2. GERAR ANOMALIAS (outliers) em transações NÃO isentas\n",
    "anomalias = np.random.choice(df[df[\"Isenção_Aplicada\"] == \"Não\"].index, 5, replace=False)\n",
    "df.loc[anomalias, \"Taxa_Cobrada\"] = np.random.choice([25, 26, 27, 28, 38], 5)  # Valores extremos\n",
    "\n",
    "# 3. Salvar em CSV (arquivo será criado no mesmo diretório do script)\n",
    "df.to_csv(\"transacoes_paysmart.csv\", index=False, encoding='utf-8-sig')\n",
    "\n",
    "print(\"✅ Arquivo 'transacoes_paysmart.csv' gerado com sucesso!\")"
   ]
  },
  {
   "cell_type": "markdown",
   "metadata": {},
   "source": [
    "1. Importa bibliotecas necessárias: pandas, numpy, datetime, time.\n",
    "2. Define a função `monitorar_cobrancas`.\n",
    "3. Carrega dados de transações de um arquivo CSV.\n",
    "4. Calcula o Z-Score da coluna \"Taxa_Cobrada\" para detectar anomalias.\n",
    "5. Marca transações com Z-Score acima de 3 como anomalias.\n",
    "6. Verifica erros de isenção, onde \"Isenção_Aplicada\" é \"Sim\" e \"Taxa_Cobrada\" > 0.\n",
    "7. Cria uma coluna \"Problema\" para identificar transações com anomalias ou erros de isenção.\n",
    "8. Filtra as transações problemáticas.\n",
    "9. Gera um relatório em CSV se problemas forem detectados.\n",
    "10. Exibe alertas no console, indicando se problemas foram encontrados ou não."
   ]
  },
  {
   "cell_type": "code",
   "execution_count": 5,
   "metadata": {},
   "outputs": [],
   "source": [
    "import pandas as pd\n",
    "import numpy as np\n",
    "from datetime import datetime\n",
    "#import schedule\n",
    "import time\n",
    "\n",
    "def monitorar_cobrancas():\n",
    "    # 1. Carregar base de dados (simulada ou real)\n",
    "    df = pd.read_csv(\"transacoes_paysmart.csv\")  # Ou conexão com banco de dados\n",
    "\n",
    "    # 2. Calcular métricas e identificar problemas\n",
    "    df[\"Z-Score\"] = (df[\"Taxa_Cobrada\"] - df[\"Taxa_Cobrada\"].mean()) / df[\"Taxa_Cobrada\"].std()\n",
    "    df[\"Anomalia\"] = np.abs(df[\"Z-Score\"]) > 3\n",
    "    df[\"Erro_Isencao\"] = (df[\"Isenção_Aplicada\"] == \"Sim\") & (df[\"Taxa_Cobrada\"] > 0)\n",
    "    df[\"Problema\"] = df[\"Anomalia\"] | df[\"Erro_Isencao\"]\n",
    "\n",
    "    # 3. Filtrar transações problemáticas\n",
    "    problemas = df[df[\"Problema\"]]\n",
    "\n",
    "    # 4. Gerar relatório e alertas\n",
    "    if not problemas.empty:\n",
    "        data_hora = datetime.now().strftime(\"%Y-%m-%d_%H-%M-%S\")\n",
    "        problemas.to_csv(f\"alertas_cobrancas_{data_hora}.csv\", index=False)\n",
    "        print(f\"⚠️ {len(problemas)} alertas gerados em {data_hora}. Verifique o arquivo CSV.\")\n",
    "    else:\n",
    "        print(f\"✅ Nenhum problema detectado em {datetime.now()}.\")\n"
   ]
  },
  {
   "cell_type": "code",
   "execution_count": 7,
   "metadata": {},
   "outputs": [
    {
     "name": "stdout",
     "output_type": "stream",
     "text": [
      "⚠️ 10 alertas gerados em 2025-04-21_11-59-28. Verifique o arquivo CSV.\n"
     ]
    }
   ],
   "source": [
    "#execução da função\n",
    "monitorar_cobrancas()"
   ]
  }
 ],
 "metadata": {
  "kernelspec": {
   "display_name": "base",
   "language": "python",
   "name": "python3"
  },
  "language_info": {
   "codemirror_mode": {
    "name": "ipython",
    "version": 3
   },
   "file_extension": ".py",
   "mimetype": "text/x-python",
   "name": "python",
   "nbconvert_exporter": "python",
   "pygments_lexer": "ipython3",
   "version": "3.12.8"
  }
 },
 "nbformat": 4,
 "nbformat_minor": 2
}
